{
  "nbformat": 4,
  "nbformat_minor": 0,
  "metadata": {
    "colab": {
      "name": "CNN.ipynb",
      "version": "0.3.2",
      "provenance": [],
      "collapsed_sections": [],
      "include_colab_link": true
    },
    "kernelspec": {
      "name": "python3",
      "display_name": "Python 3"
    },
    "accelerator": "TPU"
  },
  "cells": [
    {
      "cell_type": "markdown",
      "metadata": {
        "id": "view-in-github",
        "colab_type": "text"
      },
      "source": [
        "<a href=\"https://colab.research.google.com/github/kmswin1/ConvolutionNeuralNetwork/blob/master/CNN.ipynb\" target=\"_parent\"><img src=\"https://colab.research.google.com/assets/colab-badge.svg\" alt=\"Open In Colab\"/></a>"
      ]
    },
    {
      "metadata": {
        "id": "BGux56f-XqMb",
        "colab_type": "code",
        "outputId": "fb8c6d18-e625-4249-fa3b-5d12075e6a54",
        "colab": {
          "base_uri": "https://localhost:8080/",
          "height": 51
        }
      },
      "cell_type": "code",
      "source": [
        "import tensorflow as tf\n",
        "import os\n",
        "import cv2\n",
        "import numpy as np\n",
        "import time\n",
        "import matplotlib.pyplot as plt\n",
        "from sklearn.preprocessing import LabelEncoder\n",
        "from sklearn.preprocessing import OneHotEncoder\n",
        "\n",
        "# Load the Drive helper and mount\n",
        "from google.colab import drive\n",
        "\n",
        "# This will prompt for authorization.\n",
        "drive.mount('/content/drive', force_remount=True)\n",
        "!ls \"/content/drive/My Drive/Colab Notebooks\""
      ],
      "execution_count": 0,
      "outputs": [
        {
          "output_type": "stream",
          "text": [
            "Mounted at /content/drive\n",
            "CNN.ipynb  data\n"
          ],
          "name": "stdout"
        }
      ]
    },
    {
      "metadata": {
        "id": "cEJccF1S2mfv",
        "colab_type": "code",
        "outputId": "0d59ff4e-def5-4fe3-ccb9-4a5322484f6f",
        "colab": {
          "base_uri": "https://localhost:8080/",
          "height": 105
        }
      },
      "cell_type": "code",
      "source": [
        "TRAIN_DIR = \"/content/drive/My Drive/Colab Notebooks/data/Training\"\n",
        "train_folder_list = np.array(os.listdir(TRAIN_DIR))\n",
        "train_input = []\n",
        "train_label = []\n",
        "label_encoder = LabelEncoder()  # LabelEncoder Class 호출\n",
        "onehot_encoder = OneHotEncoder(sparse=False) # OneHotEncoder 호출\n",
        "integer_encoded = label_encoder.fit_transform(train_folder_list)\n",
        "integer_encoded = integer_encoded.reshape(len(integer_encoded), 1)\n",
        "onehot_encoded = onehot_encoder.fit_transform(integer_encoded)\n",
        "\n",
        "for index in range(len(train_folder_list)):\n",
        "    path = os.path.join(TRAIN_DIR, train_folder_list[index])\n",
        "    path = path + '/'\n",
        "    img_list = os.listdir(path)\n",
        "    \n",
        "    for img in img_list:\n",
        "        img_path = os.path.join(path, img)\n",
        "        img = cv2.imread(img_path, cv2.IMREAD_GRAYSCALE)\n",
        "        train_input.append([np.array(img)])\n",
        "        train_label.append([np.array(onehot_encoded[index])])\n",
        "\n",
        "#print (train_input)\n",
        "train_input = np.reshape(train_input, (-1, 80,80))\n",
        "train_label = np.reshape(train_label, (-1, 2))\n",
        "train_input = np.array(train_input).astype(np.float32)\n",
        "train_label = np.array(train_label).astype(np.float32)\n",
        "\n",
        "np.save(\"train_data.npy\", train_input)\n",
        "np.save(\"train_label.npy\", train_label)\n"
      ],
      "execution_count": 0,
      "outputs": [
        {
          "output_type": "stream",
          "text": [
            "/usr/local/lib/python3.6/dist-packages/sklearn/preprocessing/_encoders.py:368: FutureWarning: The handling of integer data will change in version 0.22. Currently, the categories are determined based on the range [0, max(values)], while in the future they will be determined based on the unique values.\n",
            "If you want the future behaviour and silence this warning, you can specify \"categories='auto'\".\n",
            "In case you used a LabelEncoder before this OneHotEncoder to convert the categories to integers, then you can now use the OneHotEncoder directly.\n",
            "  warnings.warn(msg, FutureWarning)\n"
          ],
          "name": "stderr"
        }
      ]
    },
    {
      "metadata": {
        "id": "DkhUVZ8P2vzC",
        "colab_type": "code",
        "outputId": "1b94ce4d-8eda-42e3-eafb-3353f8093aa1",
        "colab": {
          "base_uri": "https://localhost:8080/",
          "height": 105
        }
      },
      "cell_type": "code",
      "source": [
        "TEST_DIR = '/content/drive/My Drive/Colab Notebooks/data/Test'\n",
        "test_folder_list = np.array(os.listdir(TEST_DIR))\n",
        " \n",
        "test_input = []\n",
        "test_label = []\n",
        " \n",
        "label_encoder = LabelEncoder()\n",
        "integer_encoded = label_encoder.fit_transform(test_folder_list)\n",
        " \n",
        "onehot_encoder = OneHotEncoder(sparse=False) \n",
        "integer_encoded = integer_encoded.reshape(len(integer_encoded), 1)\n",
        "onehot_encoded = onehot_encoder.fit_transform(integer_encoded)\n",
        " \n",
        "for index in range(len(test_folder_list)):\n",
        "    path = os.path.join(TEST_DIR, test_folder_list[index])\n",
        "    path = path + '/'\n",
        "    img_list = os.listdir(path)\n",
        "    for img in img_list:\n",
        "        img_path = os.path.join(path, img)\n",
        "        img = cv2.imread(img_path, cv2.IMREAD_GRAYSCALE)\n",
        "        test_input.append([np.array(img)])\n",
        "        test_label.append([np.array(onehot_encoded[index])])\n",
        "\n",
        "#print (test_input)\n",
        "test_input = np.reshape(test_input, (-1, 80,80))\n",
        "test_label = np.reshape(test_label, (-1, 2))\n",
        "test_input = np.array(test_input).astype(np.float32)\n",
        "test_label = np.array(test_label).astype(np.float32)\n",
        "np.save(\"test_input.npy\",test_input)\n",
        "np.save(\"test_label.npy\",test_label)"
      ],
      "execution_count": 0,
      "outputs": [
        {
          "output_type": "stream",
          "text": [
            "/usr/local/lib/python3.6/dist-packages/sklearn/preprocessing/_encoders.py:368: FutureWarning: The handling of integer data will change in version 0.22. Currently, the categories are determined based on the range [0, max(values)], while in the future they will be determined based on the unique values.\n",
            "If you want the future behaviour and silence this warning, you can specify \"categories='auto'\".\n",
            "In case you used a LabelEncoder before this OneHotEncoder to convert the categories to integers, then you can now use the OneHotEncoder directly.\n",
            "  warnings.warn(msg, FutureWarning)\n"
          ],
          "name": "stderr"
        }
      ]
    },
    {
      "metadata": {
        "id": "ZAGdlkBfI1iV",
        "colab_type": "code",
        "outputId": "e1ac0d65-8409-404f-d5dc-84563e233408",
        "colab": {
          "base_uri": "https://localhost:8080/",
          "height": 374
        }
      },
      "cell_type": "code",
      "source": [
        "batch_size = 20\n",
        "test_size = 5\n",
        "training_epochs = 10\n",
        "\n",
        "def init_weights(shape):\n",
        "    return tf.Variable(tf.random_normal(shape, stddev=0.01))\n",
        "\n",
        "# Filter weight vectors: w, w2, w3, w4, w_0\n",
        "def model(X, w, w2, w3, w4, w5, w_o, p_keep_conv, p_keep_hidden):\n",
        "    l1a = tf.nn.relu(tf.nn.conv2d(X, w,                       # l1a shape=(?, 80, 80, 32)\n",
        "                        strides=[1, 1, 1, 1], padding='SAME'))\n",
        "    l1 = tf.nn.max_pool(l1a, ksize=[1, 2, 2, 1],              # l1 shape=(?, 40, 40, 32)\n",
        "                        strides=[1, 2, 2, 1], padding='SAME')\n",
        "    l1 = tf.nn.dropout(l1, p_keep_conv)\n",
        "\n",
        "    l2a = tf.nn.relu(tf.nn.conv2d(l1, w2,                     # l2a shape=(?, 40, 40, 64)\n",
        "                        strides=[1, 1, 1, 1], padding='SAME'))\n",
        "    l2 = tf.nn.max_pool(l2a, ksize=[1, 2, 2, 1],              # l2 shape=(?, 20, 20, 64)\n",
        "                        strides=[1, 2, 2, 1], padding='SAME')\n",
        "    l2 = tf.nn.dropout(l2, p_keep_conv)\n",
        "\n",
        "    l3a = tf.nn.relu(tf.nn.conv2d(l2, w3,                     # l3a shape=(?, 20, 20x, 128)\n",
        "                        strides=[1, 1, 1, 1], padding='SAME'))\n",
        "    l3 = tf.nn.max_pool(l3a, ksize=[1, 2, 2, 1],              # l3 shape=(?, 10, 10, 128)\n",
        "                        strides=[1, 2, 2, 1], padding='SAME')\n",
        "    l3 = tf.nn.dropout(l3, p_keep_conv)\n",
        "    \n",
        "    l4a = tf.nn.relu(tf.nn.conv2d(l3, w4,                     # l4a shape=(?, 10, 10x, 256)\n",
        "                        strides=[1, 1, 1, 1], padding='SAME'))\n",
        "    l4 = tf.nn.max_pool(l4a, ksize=[1, 2, 2, 1],              # l4 shape=(?, 5, 5, 256)\n",
        "                        strides=[1, 2, 2, 1], padding='SAME')\n",
        "    l4 = tf.reshape(l4, [-1, w5.get_shape().as_list()[0]])    # reshape to (?, 4096)\n",
        "    \n",
        "    l4 = tf.nn.dropout(l4, p_keep_conv)\n",
        "\n",
        "    l5 = tf.nn.relu(tf.matmul(l4, w5))\n",
        "    l5 = tf.nn.dropout(l5, p_keep_hidden)\n",
        "\n",
        "    pyx = tf.matmul(l5, w_o)\n",
        "    return pyx\n",
        "\n",
        "# Read data\n",
        "trX, trY, teX, teY = train_input, train_label, test_input, test_label\n",
        "\n",
        "# trx.reshape( n-inputs, image size, image size, depth )\n",
        " # this variable is input in model()\n",
        "trX = trX.reshape(-1, 80, 80, 1)  # 80x80x1 input img\n",
        "teX = teX.reshape(-1, 80, 80, 1)  # 80x80x1 input img\n",
        "\n",
        "X = tf.placeholder(\"float\", [None, 80, 80, 1])\n",
        "Y = tf.placeholder(\"float\", [None, 2])\n",
        "\n",
        "w = init_weights([3, 3, 1, 32])       # 3x3x1 conv, 32 outputs\n",
        "w2 = init_weights([3, 3, 32, 64])     # 3x3x32 conv, 64 outputs\n",
        "w3 = init_weights([3, 3, 64, 128])    # 3x3x64 conv, 128 outputs\n",
        "w4 = init_weights([3, 3, 128, 256])   # 3x3x128 conv, 256 outputs\n",
        "w5 = init_weights([256 * 5 * 5, 1500]) # FC 256 * 5 * 5 inputs, 1500 outputs (Flatten Layer)\n",
        "w_o = init_weights([1500, 2])         # FC 1500 inputs, 2 outputs (labels) (Fully-Connected Layer)\n",
        "\n",
        "p_keep_conv = tf.placeholder(\"float\")\n",
        "p_keep_hidden = tf.placeholder(\"float\")\n",
        "py_x = model(X, w, w2, w3, w4, w5, w_o, p_keep_conv, p_keep_hidden)\n",
        "\n",
        "cost = tf.reduce_mean(tf.nn.softmax_cross_entropy_with_logits(logits = py_x, labels = Y))\n",
        "train_op = tf.train.RMSPropOptimizer(0.001, 0.9).minimize(cost)\n",
        "predict_op = tf.argmax(py_x, 1)\n",
        "\n",
        "init = tf.global_variables_initializer()\n",
        "# Launch the graph in a session\n",
        "eps = []\n",
        "loss_tr = []\n",
        "loss_va = []\n",
        "with tf.Session() as sess:\n",
        "    # you need to initialize all variables\n",
        "    start_time = time.time()\n",
        "    sess.run(init)\n",
        "    for i in range(training_epochs):\n",
        "        avg_cost = 0.\n",
        "        avg_training_accuracy = 0.\n",
        "        total_batch = 4\n",
        "        init = 0\n",
        "              \n",
        "        for step in range(total_batch):\n",
        "            batch_xs, batch_ys = train_input[init:init+batch_size], train_label[init:init+batch_size]\n",
        "            batch_xs_image = batch_xs.reshape(-1, 80, 80, 1)\n",
        "            sess.run(train_op, feed_dict={X: batch_xs_image, Y: batch_ys, p_keep_conv: 0.8, p_keep_hidden: 0.5})\n",
        "            # Training average cost 계산\n",
        "            avg_cost += sess.run(cost, feed_dict={X: batch_xs_image, Y: batch_ys, p_keep_conv:1.0, p_keep_hidden:1.0})/total_batch\n",
        "            \n",
        "            avg_training_accuracy += (np.mean(np.argmax(batch_ys, axis=1) ==\n",
        "                         sess.run(predict_op, feed_dict={X: batch_xs_image,\n",
        "                                                        Y: batch_ys,\n",
        "                                                        p_keep_conv: 1.0,\n",
        "                                                        p_keep_hidden: 1.0})))/total_batch\n",
        "            if (init+batch_size > len(train_input)):\n",
        "              init += len(train_input) - 1\n",
        "            elif (init > len(train_input)):\n",
        "              init = 0\n",
        "            else:\n",
        "              init += 20\n",
        "        \n",
        "        #training error: %.4f,  avg_cost\n",
        "        print(\"Epoch: %d, training accuracy: %.4f\"%(i,avg_training_accuracy))\n",
        "\n",
        "        # testing accuracy 계산\n",
        "        # 인덱스를 뒤 썩어 준다. 랜덤하게 3개 추출을 위해서\n",
        "        test_indices = np.arange(test_input.shape[0]) # Get A Test Batch\n",
        "        np.random.shuffle(test_indices)\n",
        "        test_indices = test_indices[0:test_size] # 3개만 선택한다.\n",
        "        teX = test_input[test_indices].reshape(-1, 80, 80, 1) # input을 2차원 image를 담은 3차원 matrix로 표현 \n",
        "        testing_accuracy = np.mean(np.argmax(test_label[test_indices], axis=1) ==\n",
        "                         sess.run(predict_op, feed_dict={X: teX,\n",
        "                                                        Y: test_label[test_indices],\n",
        "                                                        p_keep_conv: 1.0,\n",
        "                                                        p_keep_hidden: 1.0}))\n",
        "\n",
        "        print(\"Testing Accuracy: %.4f\"%(testing_accuracy))\n",
        "        \n",
        "        eps.append(i)\n",
        "        loss_tr.append(avg_training_accuracy)\n",
        "        loss_va.append(testing_accuracy)\n",
        "\n",
        "        \n",
        "    print(\"time elapsed: {:.2f}s\".format(time.time() - start_time))"
      ],
      "execution_count": 0,
      "outputs": [
        {
          "output_type": "stream",
          "text": [
            "Epoch: 0, training accuracy: 0.0375\n",
            "Testing Accuracy: 0.6000\n",
            "Epoch: 1, training accuracy: 0.7750\n",
            "Testing Accuracy: 0.2000\n",
            "Epoch: 2, training accuracy: 0.9750\n",
            "Testing Accuracy: 0.8000\n",
            "Epoch: 3, training accuracy: 0.9750\n",
            "Testing Accuracy: 0.6000\n",
            "Epoch: 4, training accuracy: 0.9750\n",
            "Testing Accuracy: 0.6000\n",
            "Epoch: 5, training accuracy: 0.9750\n",
            "Testing Accuracy: 0.6000\n",
            "Epoch: 6, training accuracy: 0.9750\n",
            "Testing Accuracy: 0.8000\n",
            "Epoch: 7, training accuracy: 0.9750\n",
            "Testing Accuracy: 0.6000\n",
            "Epoch: 8, training accuracy: 0.9750\n",
            "Testing Accuracy: 0.8000\n",
            "Epoch: 9, training accuracy: 0.9750\n",
            "Testing Accuracy: 0.6000\n",
            "time elapsed: 34.98s\n"
          ],
          "name": "stdout"
        }
      ]
    },
    {
      "metadata": {
        "id": "E9Aae0_enJFD",
        "colab_type": "text"
      },
      "cell_type": "markdown",
      "source": [
        ""
      ]
    },
    {
      "metadata": {
        "id": "Y6F26N3XX5ma",
        "colab_type": "code",
        "outputId": "63f986ef-9451-408a-c7b8-9ca4338fe24e",
        "colab": {
          "base_uri": "https://localhost:8080/",
          "height": 362
        }
      },
      "cell_type": "code",
      "source": [
        "# Plot your train error and validation error by number of iterations.\n",
        "plt.plot(eps, loss_tr, eps, loss_va, 'r-')\n",
        "plt.title(\"error graph\")\n",
        "plt.legend([\"Training\", \"Validation\"])\n",
        "plt.show()"
      ],
      "execution_count": 0,
      "outputs": [
        {
          "output_type": "display_data",
          "data": {
            "image/png": "[encoded data removed]",
            "text/plain": [
              "<matplotlib.figure.Figure at 0x7f44379cc748>"
            ]
          },
          "metadata": {
            "tags": []
          }
        }
      ]
    },
    {
      "metadata": {
        "id": "wrxLvVYWnKHj",
        "colab_type": "code",
        "colab": {}
      },
      "cell_type": "code",
      "source": [
        ""
      ],
      "execution_count": 0,
      "outputs": []
    }
  ]
}