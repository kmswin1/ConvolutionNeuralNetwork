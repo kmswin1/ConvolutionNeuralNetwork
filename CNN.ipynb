{
  "nbformat": 4,
  "nbformat_minor": 0,
  "metadata": {
    "colab": {
      "name": "CNN.ipynb",
      "version": "0.3.2",
      "provenance": [],
      "collapsed_sections": [],
      "include_colab_link": true
    },
    "kernelspec": {
      "name": "python3",
      "display_name": "Python 3"
    },
    "accelerator": "TPU"
  },
  "cells": [
    {
      "cell_type": "markdown",
      "metadata": {
        "id": "view-in-github",
        "colab_type": "text"
      },
      "source": [
        "<a href=\"https://colab.research.google.com/github/kmswin1/ConvolutionNeuralNetwork/blob/master/CNN.ipynb\" target=\"_parent\"><img src=\"https://colab.research.google.com/assets/colab-badge.svg\" alt=\"Open In Colab\"/></a>"
      ]
    },
    {
      "metadata": {
        "id": "BGux56f-XqMb",
        "colab_type": "code",
        "outputId": "13916609-13d4-43a0-8c5a-1180f2c1b613",
        "colab": {
          "base_uri": "https://localhost:8080/",
          "height": 51
        }
      },
      "cell_type": "code",
      "source": [
        "import tensorflow as tf\n",
        "import os\n",
        "import cv2\n",
        "import numpy as np\n",
        "import time\n",
        "from sklearn.preprocessing import LabelEncoder\n",
        "from sklearn.preprocessing import OneHotEncoder\n",
        "\n",
        "# Load the Drive helper and mount\n",
        "from google.colab import drive\n",
        "\n",
        "# This will prompt for authorization.\n",
        "drive.mount('/content/drive', force_remount=True)\n",
        "!ls \"/content/drive/My Drive/Colab Notebooks\""
      ],
      "execution_count": 29,
      "outputs": [
        {
          "output_type": "stream",
          "text": [
            "Mounted at /content/drive\n",
            "CNN.ipynb  data\n"
          ],
          "name": "stdout"
        }
      ]
    },
    {
      "metadata": {
        "id": "cEJccF1S2mfv",
        "colab_type": "code",
        "outputId": "1fdb5508-944a-4501-e149-eea017087f13",
        "colab": {
          "base_uri": "https://localhost:8080/",
          "height": 1184
        }
      },
      "cell_type": "code",
      "source": [
        "TRAIN_DIR = \"/content/drive/My Drive/Colab Notebooks/data/Training\"\n",
        "train_folder_list = np.array(os.listdir(TRAIN_DIR))\n",
        "train_input = []\n",
        "train_label = []\n",
        "label_encoder = LabelEncoder()  # LabelEncoder Class 호출\n",
        "onehot_encoder = OneHotEncoder(sparse=False) # OneHotEncoder 호출\n",
        "integer_encoded = label_encoder.fit_transform(train_folder_list)\n",
        "integer_encoded = integer_encoded.reshape(len(integer_encoded), 1)\n",
        "onehot_encoded = onehot_encoder.fit_transform(integer_encoded)\n",
        "\n",
        "for index in range(len(train_folder_list)):\n",
        "    path = os.path.join(TRAIN_DIR, train_folder_list[index])\n",
        "    path = path + '/'\n",
        "    img_list = os.listdir(path)\n",
        "    \n",
        "    for img in img_list:\n",
        "        img_path = os.path.join(path, img)\n",
        "        img = cv2.imread(img_path, cv2.IMREAD_GRAYSCALE)\n",
        "        train_input.append([np.array(img)])\n",
        "        train_label.append([np.array(onehot_encoded[index])])\n",
        "\n",
        "print (train_input)\n",
        "train_input = np.reshape(train_input, (-1, 4, 6400))\n",
        "train_label = np.reshape(train_label, (-1, 2))\n",
        "train_input = np.array(train_input).astype(np.float32)\n",
        "train_label = np.array(train_label).astype(np.float32)\n",
        "\n",
        "np.save(\"train_data.npy\", train_input)\n",
        "np.save(\"train_label.npy\", train_label)\n"
      ],
      "execution_count": 32,
      "outputs": [
        {
          "output_type": "stream",
          "text": [
            "[[array([[167, 170, 176, ..., 153, 154, 154],\n",
            "       [181, 183, 190, ..., 153, 154, 154],\n",
            "       [196, 195, 199, ..., 154, 155, 155],\n",
            "       ...,\n",
            "       [106, 145, 144, ..., 130, 129, 111],\n",
            "       [125, 170, 100, ..., 144, 143, 117],\n",
            "       [168,  93, 112, ..., 133, 152, 155]], dtype=uint8)], [array([[132, 132, 133, ..., 189, 191, 193],\n",
            "       [132, 133, 133, ..., 189, 190, 192],\n",
            "       [133, 133, 134, ..., 188, 189, 191],\n",
            "       ...,\n",
            "       [ 93, 102, 115, ...,  70,  65,  49],\n",
            "       [129, 158, 191, ...,  32,  53,  77],\n",
            "       [206, 221, 232, ...,  62,  47,  40]], dtype=uint8)], [array([[ 83,  48,  64, ...,  71,  67,  80],\n",
            "       [197,  83,   0, ...,  36,  34,  53],\n",
            "       [224, 250,  88, ...,  36,  32,  53],\n",
            "       ...,\n",
            "       [ 79,  62,  58, ..., 103, 104, 105],\n",
            "       [ 69,  53,  50, ..., 101, 103, 103],\n",
            "       [ 87,  75,  74, ..., 102, 102, 102]], dtype=uint8)], [array([[ 21,  21,  21, ...,  10,  10,  10],\n",
            "       [ 21,  21,  20, ...,  10,  10,  10],\n",
            "       [ 21,  20,  20, ...,  11,  10,  10],\n",
            "       ...,\n",
            "       [120,  91, 115, ...,  26,  46, 101],\n",
            "       [ 99, 107,  78, ...,  26,  47,  96],\n",
            "       [ 71,  92, 100, ...,  28,  45,  92]], dtype=uint8)]]\n"
          ],
          "name": "stdout"
        },
        {
          "output_type": "error",
          "ename": "ValueError",
          "evalue": "ignored",
          "traceback": [
            "\u001b[0;31m---------------------------------------------------------------------------\u001b[0m",
            "\u001b[0;31mAttributeError\u001b[0m                            Traceback (most recent call last)",
            "\u001b[0;32m/usr/local/lib/python3.6/dist-packages/numpy/core/fromnumeric.py\u001b[0m in \u001b[0;36m_wrapfunc\u001b[0;34m(obj, method, *args, **kwds)\u001b[0m\n\u001b[1;32m     51\u001b[0m     \u001b[0;32mtry\u001b[0m\u001b[0;34m:\u001b[0m\u001b[0;34m\u001b[0m\u001b[0;34m\u001b[0m\u001b[0m\n\u001b[0;32m---> 52\u001b[0;31m         \u001b[0;32mreturn\u001b[0m \u001b[0mgetattr\u001b[0m\u001b[0;34m(\u001b[0m\u001b[0mobj\u001b[0m\u001b[0;34m,\u001b[0m \u001b[0mmethod\u001b[0m\u001b[0;34m)\u001b[0m\u001b[0;34m(\u001b[0m\u001b[0;34m*\u001b[0m\u001b[0margs\u001b[0m\u001b[0;34m,\u001b[0m \u001b[0;34m**\u001b[0m\u001b[0mkwds\u001b[0m\u001b[0;34m)\u001b[0m\u001b[0;34m\u001b[0m\u001b[0;34m\u001b[0m\u001b[0m\n\u001b[0m\u001b[1;32m     53\u001b[0m \u001b[0;34m\u001b[0m\u001b[0m\n",
            "\u001b[0;31mAttributeError\u001b[0m: 'list' object has no attribute 'reshape'",
            "\nDuring handling of the above exception, another exception occurred:\n",
            "\u001b[0;31mValueError\u001b[0m                                Traceback (most recent call last)",
            "\u001b[0;32m<ipython-input-32-c123c20694e7>\u001b[0m in \u001b[0;36m<module>\u001b[0;34m()\u001b[0m\n\u001b[1;32m     21\u001b[0m \u001b[0;34m\u001b[0m\u001b[0m\n\u001b[1;32m     22\u001b[0m \u001b[0mprint\u001b[0m \u001b[0;34m(\u001b[0m\u001b[0mtrain_input\u001b[0m\u001b[0;34m)\u001b[0m\u001b[0;34m\u001b[0m\u001b[0;34m\u001b[0m\u001b[0m\n\u001b[0;32m---> 23\u001b[0;31m \u001b[0mtrain_input\u001b[0m \u001b[0;34m=\u001b[0m \u001b[0mnp\u001b[0m\u001b[0;34m.\u001b[0m\u001b[0mreshape\u001b[0m\u001b[0;34m(\u001b[0m\u001b[0mtrain_input\u001b[0m\u001b[0;34m,\u001b[0m \u001b[0;34m(\u001b[0m\u001b[0;34m-\u001b[0m\u001b[0;36m1\u001b[0m\u001b[0;34m,\u001b[0m \u001b[0;36m4\u001b[0m\u001b[0;34m,\u001b[0m \u001b[0;36m6400\u001b[0m\u001b[0;34m)\u001b[0m\u001b[0;34m)\u001b[0m\u001b[0;34m\u001b[0m\u001b[0;34m\u001b[0m\u001b[0m\n\u001b[0m\u001b[1;32m     24\u001b[0m \u001b[0mtrain_label\u001b[0m \u001b[0;34m=\u001b[0m \u001b[0mnp\u001b[0m\u001b[0;34m.\u001b[0m\u001b[0mreshape\u001b[0m\u001b[0;34m(\u001b[0m\u001b[0mtrain_label\u001b[0m\u001b[0;34m,\u001b[0m \u001b[0;34m(\u001b[0m\u001b[0;34m-\u001b[0m\u001b[0;36m1\u001b[0m\u001b[0;34m,\u001b[0m \u001b[0;36m2\u001b[0m\u001b[0;34m)\u001b[0m\u001b[0;34m)\u001b[0m\u001b[0;34m\u001b[0m\u001b[0;34m\u001b[0m\u001b[0m\n\u001b[1;32m     25\u001b[0m \u001b[0mtrain_input\u001b[0m \u001b[0;34m=\u001b[0m \u001b[0mnp\u001b[0m\u001b[0;34m.\u001b[0m\u001b[0marray\u001b[0m\u001b[0;34m(\u001b[0m\u001b[0mtrain_input\u001b[0m\u001b[0;34m)\u001b[0m\u001b[0;34m.\u001b[0m\u001b[0mastype\u001b[0m\u001b[0;34m(\u001b[0m\u001b[0mnp\u001b[0m\u001b[0;34m.\u001b[0m\u001b[0mfloat32\u001b[0m\u001b[0;34m)\u001b[0m\u001b[0;34m\u001b[0m\u001b[0;34m\u001b[0m\u001b[0m\n",
            "\u001b[0;32m/usr/local/lib/python3.6/dist-packages/numpy/core/fromnumeric.py\u001b[0m in \u001b[0;36mreshape\u001b[0;34m(a, newshape, order)\u001b[0m\n\u001b[1;32m    255\u001b[0m            [5, 6]])\n\u001b[1;32m    256\u001b[0m     \"\"\"\n\u001b[0;32m--> 257\u001b[0;31m     \u001b[0;32mreturn\u001b[0m \u001b[0m_wrapfunc\u001b[0m\u001b[0;34m(\u001b[0m\u001b[0ma\u001b[0m\u001b[0;34m,\u001b[0m \u001b[0;34m'reshape'\u001b[0m\u001b[0;34m,\u001b[0m \u001b[0mnewshape\u001b[0m\u001b[0;34m,\u001b[0m \u001b[0morder\u001b[0m\u001b[0;34m=\u001b[0m\u001b[0morder\u001b[0m\u001b[0;34m)\u001b[0m\u001b[0;34m\u001b[0m\u001b[0;34m\u001b[0m\u001b[0m\n\u001b[0m\u001b[1;32m    258\u001b[0m \u001b[0;34m\u001b[0m\u001b[0m\n\u001b[1;32m    259\u001b[0m \u001b[0;34m\u001b[0m\u001b[0m\n",
            "\u001b[0;32m/usr/local/lib/python3.6/dist-packages/numpy/core/fromnumeric.py\u001b[0m in \u001b[0;36m_wrapfunc\u001b[0;34m(obj, method, *args, **kwds)\u001b[0m\n\u001b[1;32m     60\u001b[0m     \u001b[0;31m# a downstream library like 'pandas'.\u001b[0m\u001b[0;34m\u001b[0m\u001b[0;34m\u001b[0m\u001b[0;34m\u001b[0m\u001b[0m\n\u001b[1;32m     61\u001b[0m     \u001b[0;32mexcept\u001b[0m \u001b[0;34m(\u001b[0m\u001b[0mAttributeError\u001b[0m\u001b[0;34m,\u001b[0m \u001b[0mTypeError\u001b[0m\u001b[0;34m)\u001b[0m\u001b[0;34m:\u001b[0m\u001b[0;34m\u001b[0m\u001b[0;34m\u001b[0m\u001b[0m\n\u001b[0;32m---> 62\u001b[0;31m         \u001b[0;32mreturn\u001b[0m \u001b[0m_wrapit\u001b[0m\u001b[0;34m(\u001b[0m\u001b[0mobj\u001b[0m\u001b[0;34m,\u001b[0m \u001b[0mmethod\u001b[0m\u001b[0;34m,\u001b[0m \u001b[0;34m*\u001b[0m\u001b[0margs\u001b[0m\u001b[0;34m,\u001b[0m \u001b[0;34m**\u001b[0m\u001b[0mkwds\u001b[0m\u001b[0;34m)\u001b[0m\u001b[0;34m\u001b[0m\u001b[0;34m\u001b[0m\u001b[0m\n\u001b[0m\u001b[1;32m     63\u001b[0m \u001b[0;34m\u001b[0m\u001b[0m\n\u001b[1;32m     64\u001b[0m \u001b[0;34m\u001b[0m\u001b[0m\n",
            "\u001b[0;32m/usr/local/lib/python3.6/dist-packages/numpy/core/fromnumeric.py\u001b[0m in \u001b[0;36m_wrapit\u001b[0;34m(obj, method, *args, **kwds)\u001b[0m\n\u001b[1;32m     40\u001b[0m     \u001b[0;32mexcept\u001b[0m \u001b[0mAttributeError\u001b[0m\u001b[0;34m:\u001b[0m\u001b[0;34m\u001b[0m\u001b[0;34m\u001b[0m\u001b[0m\n\u001b[1;32m     41\u001b[0m         \u001b[0mwrap\u001b[0m \u001b[0;34m=\u001b[0m \u001b[0;32mNone\u001b[0m\u001b[0;34m\u001b[0m\u001b[0;34m\u001b[0m\u001b[0m\n\u001b[0;32m---> 42\u001b[0;31m     \u001b[0mresult\u001b[0m \u001b[0;34m=\u001b[0m \u001b[0mgetattr\u001b[0m\u001b[0;34m(\u001b[0m\u001b[0masarray\u001b[0m\u001b[0;34m(\u001b[0m\u001b[0mobj\u001b[0m\u001b[0;34m)\u001b[0m\u001b[0;34m,\u001b[0m \u001b[0mmethod\u001b[0m\u001b[0;34m)\u001b[0m\u001b[0;34m(\u001b[0m\u001b[0;34m*\u001b[0m\u001b[0margs\u001b[0m\u001b[0;34m,\u001b[0m \u001b[0;34m**\u001b[0m\u001b[0mkwds\u001b[0m\u001b[0;34m)\u001b[0m\u001b[0;34m\u001b[0m\u001b[0;34m\u001b[0m\u001b[0m\n\u001b[0m\u001b[1;32m     43\u001b[0m     \u001b[0;32mif\u001b[0m \u001b[0mwrap\u001b[0m\u001b[0;34m:\u001b[0m\u001b[0;34m\u001b[0m\u001b[0;34m\u001b[0m\u001b[0m\n\u001b[1;32m     44\u001b[0m         \u001b[0;32mif\u001b[0m \u001b[0;32mnot\u001b[0m \u001b[0misinstance\u001b[0m\u001b[0;34m(\u001b[0m\u001b[0mresult\u001b[0m\u001b[0;34m,\u001b[0m \u001b[0mmu\u001b[0m\u001b[0;34m.\u001b[0m\u001b[0mndarray\u001b[0m\u001b[0;34m)\u001b[0m\u001b[0;34m:\u001b[0m\u001b[0;34m\u001b[0m\u001b[0;34m\u001b[0m\u001b[0m\n",
            "\u001b[0;31mValueError\u001b[0m: cannot reshape array of size 4 into shape (4,6400)"
          ]
        }
      ]
    },
    {
      "metadata": {
        "id": "DkhUVZ8P2vzC",
        "colab_type": "code",
        "colab": {
          "base_uri": "https://localhost:8080/",
          "height": 34
        },
        "outputId": "2c2004bf-d1de-4c7b-f829-584ae5d4e9fd"
      },
      "cell_type": "code",
      "source": [
        "TEST_DIR = '/content/drive/My Drive/Colab Notebooks/data/Test'\n",
        "test_folder_list = np.array(os.listdir(TEST_DIR))\n",
        " \n",
        "test_input = []\n",
        "test_label = []\n",
        " \n",
        "label_encoder = LabelEncoder()\n",
        "integer_encoded = label_encoder.fit_transform(test_folder_list)\n",
        " \n",
        "onehot_encoder = OneHotEncoder(sparse=False) \n",
        "integer_encoded = integer_encoded.reshape(len(integer_encoded), 1)\n",
        "onehot_encoded = onehot_encoder.fit_transform(integer_encoded)\n",
        " \n",
        "for index in range(len(test_folder_list)):\n",
        "    path = os.path.join(TEST_DIR, test_folder_list[index])\n",
        "    path = path + '/'\n",
        "    img_list = os.listdir(path)\n",
        "    for img in img_list:\n",
        "        img_path = os.path.join(path, img)\n",
        "        img = cv2.imread(img_path, cv2.IMREAD_GRAYSCALE)\n",
        "        test_input.append([np.array(img)])\n",
        "        test_label.append([np.array(onehot_encoded[index])])\n",
        "\n",
        "test_input = np.reshape(test_input, (-1, 784))\n",
        "test_label = np.reshape(test_label, (-1, 10))\n",
        "test_input = np.array(test_input).astype(np.float32)\n",
        "test_label = np.array(test_label).astype(np.float32)\n",
        "np.save(\"test_input.npy\",test_input)\n",
        "np.save(\"test_label.npy\",test_label)"
      ],
      "execution_count": 20,
      "outputs": [
        {
          "output_type": "stream",
          "text": [
            "[]\n"
          ],
          "name": "stdout"
        }
      ]
    },
    {
      "metadata": {
        "id": "ZAGdlkBfI1iV",
        "colab_type": "code",
        "colab": {}
      },
      "cell_type": "code",
      "source": [
        "batch_size = 128\n",
        "test_size = 256\n",
        "\n",
        "def init_weights(shape):\n",
        "    return tf.Variable(tf.random_normal(shape, stddev=0.01))\n",
        "\n",
        "# Filter weight vectors: w, w2, w3, w4, w_0\n",
        "def model(X, w, w2, w3, w4, w_o, p_keep_conv, p_keep_hidden):\n",
        "    l1a = tf.nn.relu(tf.nn.conv2d(X, w,                       # l1a shape=(?, 28, 28, 32)\n",
        "                        strides=[1, 1, 1, 1], padding='SAME'))\n",
        "    l1 = tf.nn.average_pool(l1a, ksize=[1, 2, 2, 1],              # l1 shape=(?, 14, 14, 32)\n",
        "                        strides=[1, 2, 2, 1], padding='SAME')\n",
        "    l1 = tf.nn.dropout(l1, p_keep_conv)\n",
        "\n",
        "    l2a = tf.nn.relu(tf.nn.conv2d(l1, w2,                     # l2a shape=(?, 14, 14, 64)\n",
        "                        strides=[1, 1, 1, 1], padding='SAME'))\n",
        "    l2 = tf.nn.max_pool(l2a, ksize=[1, 2, 2, 1],              # l2 shape=(?, 7, 7, 64)\n",
        "                        strides=[1, 2, 2, 1], padding='SAME')\n",
        "    l2 = tf.nn.dropout(l2, p_keep_conv)\n",
        "\n",
        "    l3a = tf.nn.relu(tf.nn.conv2d(l2, w3,                     # l3a shape=(?, 7, 7, 128)\n",
        "                        strides=[1, 1, 1, 1], padding='SAME'))\n",
        "    l3 = tf.nn.max_pool(l3a, ksize=[1, 2, 2, 1],              # l3 shape=(?, 4, 4, 128)\n",
        "                        strides=[1, 2, 2, 1], padding='SAME')\n",
        "    l3 = tf.reshape(l3, [-1, w4.get_shape().as_list()[0]])    # reshape to (?, 2048)\n",
        "    l3 = tf.nn.dropout(l3, p_keep_conv)\n",
        "\n",
        "    l4 = tf.nn.relu(tf.matmul(l3, w4))\n",
        "    l4 = tf.nn.dropout(l4, p_keep_hidden)\n",
        "\n",
        "    pyx = tf.matmul(l4, w_o)\n",
        "    return pyx\n",
        "\n",
        "# Read data\n",
        "mnist = input_data.read_data_sets(\"MNIST_DATA/\", one_hot=True)\n",
        "trX, trY, teX, teY = mnist.train.images, mnist.train.labels, mnist.test.images, mnist.test.labels\n",
        "\n",
        "# trx.reshape( n-inputs, image size, image size, depth )\n",
        " # this variable is input in model()\n",
        "trX = trX.reshape(-1, 80, 80, 1)  # 80x80x1 input img\n",
        "teX = teX.reshape(-1, 80, 80, 1)  # 80x80x1 input img\n",
        "\n",
        "X = tf.placeholder(\"float\", [None, 80, 80, 1])\n",
        "Y = tf.placeholder(\"float\", [None, 2])\n",
        "\n",
        "w = init_weights([3, 3, 1, 32])       # 3x3x1 conv, 32 outputs\n",
        "w2 = init_weights([3, 3, 32, 64])     # 3x3x32 conv, 64 outputs\n",
        "w3 = init_weights([3, 3, 64, 128])    # 3x3x32 conv, 128 outputs\n",
        "w4 = init_weights([128 * 4 * 4, 625]) # FC 128 * 4 * 4 inputs, 625 outputs\n",
        "w_o = init_weights([625, 2])         # FC 625 inputs, 10 outputs (labels)\n",
        "\n",
        "p_keep_conv = tf.placeholder(\"float\")\n",
        "p_keep_hidden = tf.placeholder(\"float\")\n",
        "py_x = model(X, w, w2, w3, w4, w_o, p_keep_conv, p_keep_hidden)\n",
        "\n",
        "cost = tf.reduce_mean(tf.nn.softmax_cross_entropy_with_logits(py_x, Y))\n",
        "train_op = tf.train.RMSPropOptimizer(0.001, 0.9).minimize(cost)\n",
        "predict_op = tf.argmax(py_x, 1)\n",
        "\n",
        "# Launch the graph in a session\n",
        "with tf.Session() as sess:\n",
        "    # you need to initialize all variables\n",
        "    start_time = time.time()\n",
        "    tf.initialize_all_variables().run()\n",
        "\n",
        "    for i in range(100):\n",
        "        training_batch = zip(range(0, len(trX), batch_size),\n",
        "                             range(batch_size, len(trX)+1, batch_size))\n",
        "        for start, end in training_batch:\n",
        "            sess.run(train_op, feed_dict={X: trX[start:end], Y: trY[start:end],\n",
        "                                          p_keep_conv: 0.8, p_keep_hidden: 0.5})\n",
        "\n",
        "        test_indices = np.arange(len(teX)) # Get A Test Batch\n",
        "        np.random.shuffle(test_indices)\n",
        "        test_indices = test_indices[0:test_size]\n",
        "\n",
        "        print(i, np.mean(np.argmax(teY[test_indices], axis=1) ==\n",
        "                         sess.run(predict_op, feed_dict={X: teX[test_indices],\n",
        "                                                         Y: teY[test_indices],\n",
        "                                                         p_keep_conv: 1.0,\n",
        "                                                         p_keep_hidden: 1.0})))\n",
        "\n",
        "    print(\"time elapsed: {:.2f}s\".format(time.time() - start_time))"
      ],
      "execution_count": 0,
      "outputs": []
    }
  ]
}